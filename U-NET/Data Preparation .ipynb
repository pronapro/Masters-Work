{
 "cells": [
  {
   "cell_type": "markdown",
   "metadata": {},
   "source": [
    "## Data Preparation\n",
    "This note book is used to create masked png images and store them in a given folder.\n",
    "[The Oxford-IIIT Pet Dataset](https://www.kaggle.com/devdgohil/the-oxfordiiit-pet-dataset) is used for this experiment."
   ]
  },
  {
   "cell_type": "code",
   "execution_count": 1,
   "metadata": {},
   "outputs": [],
   "source": [
    "%matplotlib inline\n",
    "import gc\n",
    "import os\n",
    "\n",
    "import glob\n",
    "from PIL import Image\n",
    "import cv2\n",
    "import numpy as np\n",
    "import pandas as pd\n",
    "import matplotlib.pyplot as plt\n",
    "\n",
    "from tensorflow.random import set_seed\n",
    "from numpy.random import seed\n",
    "import random\n"
   ]
  },
  {
   "cell_type": "code",
   "execution_count": 2,
   "metadata": {},
   "outputs": [],
   "source": [
    "def seed_all_inclusive(seeding):\n",
    "    random.seed(seeding)\n",
    "    seed(seeding)\n",
    "    os.environ['PYTHONHASHSEED'] = str(seeding)\n",
    "    set_seed(seed=seeding)\n",
    "seed_all_inclusive(1) \n",
    "gc.collect()\n",
    "seeding = 1\n",
    "img_size=256\n",
    "repeat_epoch=40"
   ]
  },
  {
   "cell_type": "code",
   "execution_count": 3,
   "metadata": {},
   "outputs": [],
   "source": [
    "image_list=[]\n",
    "for file in os.listdir(\"/Users/napro/Desktop/Masters-Work/U-NET/dataset/images/images/\"):\n",
    "    if file.endswith(\".jpg\"):\n",
    "#         print(file)\n",
    "        image_list.append(file)"
   ]
  },
  {
   "cell_type": "code",
   "execution_count": 4,
   "metadata": {},
   "outputs": [
    {
     "name": "stdout",
     "output_type": "stream",
     "text": [
      "<class 'pandas.core.frame.DataFrame'>\n",
      "Int64Index: 7390 entries, 0 to 7389\n",
      "Data columns (total 2 columns):\n",
      " #   Column      Non-Null Count  Dtype \n",
      "---  ------      --------------  ----- \n",
      " 0   pet_images  7390 non-null   object\n",
      " 1   image_name  7390 non-null   object\n",
      "dtypes: object(2)\n",
      "memory usage: 173.2+ KB\n"
     ]
    }
   ],
   "source": [
    "pet_df = pd.DataFrame(np.nan, index = np.arange(len(image_list)), columns = ['pet_images'])\n",
    "pet_df['pet_images']= image_list\n",
    "pet_df['image_name'] = pet_df.pet_images.str.split(pat = '.', expand = True)[0]\n",
    "pet_df.info()"
   ]
  },
  {
   "cell_type": "code",
   "execution_count": 5,
   "metadata": {},
   "outputs": [
    {
     "ename": "FileExistsError",
     "evalue": "[Errno 17] File exists: 'masks'",
     "output_type": "error",
     "traceback": [
      "\u001b[0;31m---------------------------------------------------------------------------\u001b[0m",
      "\u001b[0;31mFileExistsError\u001b[0m                           Traceback (most recent call last)",
      "\u001b[0;32m<ipython-input-5-eb5fcb81dc95>\u001b[0m in \u001b[0;36m<module>\u001b[0;34m\u001b[0m\n\u001b[0;32m----> 1\u001b[0;31m \u001b[0mos\u001b[0m\u001b[0;34m.\u001b[0m\u001b[0mmkdir\u001b[0m\u001b[0;34m(\u001b[0m\u001b[0;34m'masks'\u001b[0m\u001b[0;34m)\u001b[0m\u001b[0;34m\u001b[0m\u001b[0;34m\u001b[0m\u001b[0m\n\u001b[0m",
      "\u001b[0;31mFileExistsError\u001b[0m: [Errno 17] File exists: 'masks'"
     ]
    }
   ],
   "source": [
    "os.mkdir('masks')"
   ]
  },
  {
   "cell_type": "code",
   "execution_count": 6,
   "metadata": {},
   "outputs": [
    {
     "name": "stdout",
     "output_type": "stream",
     "text": [
      "1000 (256, 256)\n",
      "2001 (256, 256)\n",
      "3002 (256, 256)\n",
      "4003 (256, 256)\n",
      "5004 (256, 256)\n",
      "6005 (256, 256)\n",
      "7006 (256, 256)\n"
     ]
    }
   ],
   "source": [
    " \n",
    "count = 0\n",
    "outdir = 'masks/'\n",
    "for i in range(len(image_list)):\n",
    "    IM_name = pet_df['image_name'].iloc[i]\n",
    "    imgs=cv2.imread('/Users/napro/Desktop/Masters-Work/U-NET/dataset/annotations/annotations/trimaps/' + IM_name+'.png')\n",
    "    #imgs2 = cv2.imread('/Users/napro/Desktop/Masters-Work/U-NET/dataset/images/images/' + IM_name+'.jpg')\n",
    "#     print(imgs.shape)\n",
    "    # a=Image.open('../input/oxford-pet-annotation-zipped/annotations/trimaps/'+ IM_name+'.png')\n",
    "    imgs = ((imgs[:,:,:]==1)).astype(np.uint8)\n",
    "    imgs = imgs[:,:,0]+ imgs[:,:,1]+imgs[:,:,2]\n",
    "    imgs = ((imgs[:,:]>0)).astype(np.uint8)*255\n",
    "    \n",
    "    imgs = cv2.resize(imgs, (img_size,img_size), interpolation=cv2.INTER_AREA)\n",
    "\n",
    "    cv2.imwrite(outdir + IM_name +'.png',imgs) # write png image\n",
    "    #cv2.imwrite(outdir1 + IM_name +'.jpg',imgs2) # write jpg image\n",
    "    \n",
    "    \n",
    "    count = count+1\n",
    "    if count%1001== 0:\n",
    "        print(i, imgs.shape)\n",
    "        \n",
    "    del imgs"
   ]
  },
  {
   "cell_type": "code",
   "execution_count": null,
   "metadata": {},
   "outputs": [],
   "source": []
  }
 ],
 "metadata": {
  "kernelspec": {
   "display_name": "Python 3",
   "language": "python",
   "name": "python3"
  },
  "language_info": {
   "codemirror_mode": {
    "name": "ipython",
    "version": 3
   },
   "file_extension": ".py",
   "mimetype": "text/x-python",
   "name": "python",
   "nbconvert_exporter": "python",
   "pygments_lexer": "ipython3",
   "version": "3.8.3"
  }
 },
 "nbformat": 4,
 "nbformat_minor": 4
}
